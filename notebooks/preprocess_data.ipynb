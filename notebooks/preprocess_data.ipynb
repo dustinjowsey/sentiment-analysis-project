{
 "cells": [
  {
   "cell_type": "markdown",
   "metadata": {},
   "source": [
    "<h2><b>Youtube Comment<b><h2>"
   ]
  },
  {
   "cell_type": "code",
   "execution_count": null,
   "metadata": {},
   "outputs": [],
   "source": [
    "import config\n",
    "from sentiment_preprocessor import SentimentPreprocessor\n",
    "from sklearn.feature_extraction.text import CountVectorizer, TfidfVectorizer\n",
    "\n",
    "preprocessor = SentimentPreprocessor(\"youtube_sentiment.csv.gz\")\n",
    "preprocessor.filter(comment_col=0, label_col=1)\n",
    "preprocessor.map_labels(negative=0, neutral=1, positive=2)\n",
    "\n",
    "#preprocessor.bag_of_words(vectorizer=bow_vectorizer)"
   ]
  },
  {
   "cell_type": "markdown",
   "metadata": {},
   "source": [
    "<h2><b>Twitter Comment<b><h2>"
   ]
  },
  {
   "cell_type": "code",
   "execution_count": 6,
   "metadata": {},
   "outputs": [],
   "source": [
    "preprocessor = SentimentPreprocessor(\"Twitter_Data.csv.gz\")\n",
    "preprocessor.filter(comment_col=1, label_col=2)\n",
    "preprocessor.map_labels(negative=-1, neutral=0, positive=1)"
   ]
  }
 ],
 "metadata": {
  "kernelspec": {
   "display_name": "Python 3",
   "language": "python",
   "name": "python3"
  },
  "language_info": {
   "codemirror_mode": {
    "name": "ipython",
    "version": 3
   },
   "file_extension": ".py",
   "mimetype": "text/x-python",
   "name": "python",
   "nbconvert_exporter": "python",
   "pygments_lexer": "ipython3",
   "version": "3.13.2"
  }
 },
 "nbformat": 4,
 "nbformat_minor": 2
}
